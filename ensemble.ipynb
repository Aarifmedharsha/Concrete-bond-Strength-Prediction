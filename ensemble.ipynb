{
 "cells": [
  {
   "cell_type": "code",
   "execution_count": 1,
   "metadata": {
    "executionInfo": {
     "elapsed": 352,
     "status": "ok",
     "timestamp": 1655223920760,
     "user": {
      "displayName": "20ad030_Prakash Raja",
      "userId": "02035033576982408941"
     },
     "user_tz": -330
    },
    "id": "JBmlsXEeSy_x"
   },
   "outputs": [],
   "source": [
    "import pandas as pd\n",
    "import numpy as np\n",
    "import matplotlib.pyplot as plt"
   ]
  },
  {
   "cell_type": "code",
   "execution_count": 2,
   "metadata": {
    "executionInfo": {
     "elapsed": 358,
     "status": "ok",
     "timestamp": 1655223922657,
     "user": {
      "displayName": "20ad030_Prakash Raja",
      "userId": "02035033576982408941"
     },
     "user_tz": -330
    },
    "id": "jK19LidUjTyH"
   },
   "outputs": [],
   "source": [
    "from sklearn.model_selection import cross_val_score\n",
    "from sklearn.datasets import make_blobs\n",
    "from sklearn.ensemble import RandomForestRegressor\n",
    "from sklearn.ensemble import ExtraTreesRegressor\n",
    "from sklearn.tree import DecisionTreeRegressor\n",
    "from sklearn.model_selection import train_test_split\n",
    "from sklearn.metrics import mean_squared_error"
   ]
  },
  {
   "cell_type": "code",
   "execution_count": 3,
   "metadata": {
    "executionInfo": {
     "elapsed": 371,
     "status": "ok",
     "timestamp": 1655223925569,
     "user": {
      "displayName": "20ad030_Prakash Raja",
      "userId": "02035033576982408941"
     },
     "user_tz": -330
    },
    "id": "iK4EQyc7kuQf"
   },
   "outputs": [],
   "source": [
    "dp=pd.read_csv(\"bond-strength-dataset V4.csv\")"
   ]
  },
  {
   "cell_type": "code",
   "execution_count": 4,
   "metadata": {
    "executionInfo": {
     "elapsed": 574,
     "status": "ok",
     "timestamp": 1655223927657,
     "user": {
      "displayName": "20ad030_Prakash Raja",
      "userId": "02035033576982408941"
     },
     "user_tz": -330
    },
    "id": "5kWIONHtsITI"
   },
   "outputs": [],
   "source": [
    "dp.drop(['No.'],axis=1,inplace=True)"
   ]
  },
  {
   "cell_type": "code",
   "execution_count": 5,
   "metadata": {
    "executionInfo": {
     "elapsed": 536,
     "status": "ok",
     "timestamp": 1655223929924,
     "user": {
      "displayName": "20ad030_Prakash Raja",
      "userId": "02035033576982408941"
     },
     "user_tz": -330
    },
    "id": "o0n-l9WFBnWw"
   },
   "outputs": [],
   "source": [
    "X=dp.drop(['(kN)'],axis=1)\n",
    "y=dp['(kN)']"
   ]
  },
  {
   "cell_type": "code",
   "execution_count": 6,
   "metadata": {
    "colab": {
     "base_uri": "https://localhost:8080/"
    },
    "executionInfo": {
     "elapsed": 344,
     "status": "ok",
     "timestamp": 1655223931747,
     "user": {
      "displayName": "20ad030_Prakash Raja",
      "userId": "02035033576982408941"
     },
     "user_tz": -330
    },
    "id": "-9k7WF_pj8hO",
    "outputId": "3f2d178d-7037-4f10-a9b3-d42d1cc058bf"
   },
   "outputs": [
    {
     "data": {
      "text/plain": [
       "0.2791336550175155"
      ]
     },
     "execution_count": 6,
     "metadata": {},
     "output_type": "execute_result"
    }
   ],
   "source": [
    "clf = RandomForestRegressor(n_estimators=10, max_depth=None,min_samples_split=2, random_state=0)\n",
    "scores = cross_val_score(clf,X,y, cv=5)\n",
    "scores.mean()"
   ]
  },
  {
   "cell_type": "code",
   "execution_count": 7,
   "metadata": {
    "colab": {
     "base_uri": "https://localhost:8080/"
    },
    "executionInfo": {
     "elapsed": 1171,
     "status": "ok",
     "timestamp": 1655223935786,
     "user": {
      "displayName": "20ad030_Prakash Raja",
      "userId": "02035033576982408941"
     },
     "user_tz": -330
    },
    "id": "WjmrRUF-k9TM",
    "outputId": "e0d2c074-d215-4039-ea70-34fdf11d5d08"
   },
   "outputs": [
    {
     "data": {
      "text/plain": [
       "-0.1468124311364662"
      ]
     },
     "execution_count": 7,
     "metadata": {},
     "output_type": "execute_result"
    }
   ],
   "source": [
    "clf = DecisionTreeRegressor(max_depth=None, min_samples_split=2,random_state=0)\n",
    "scores = cross_val_score(clf, X, y, cv=5)\n",
    "scores.mean()"
   ]
  },
  {
   "cell_type": "code",
   "execution_count": 8,
   "metadata": {
    "colab": {
     "base_uri": "https://localhost:8080/"
    },
    "executionInfo": {
     "elapsed": 462,
     "status": "ok",
     "timestamp": 1655223938633,
     "user": {
      "displayName": "20ad030_Prakash Raja",
      "userId": "02035033576982408941"
     },
     "user_tz": -330
    },
    "id": "BFaozY_mlIMg",
    "outputId": "6ba0bfbc-ca1d-454a-ca14-0add3a999152"
   },
   "outputs": [
    {
     "data": {
      "text/plain": [
       "0.2821463896156037"
      ]
     },
     "execution_count": 8,
     "metadata": {},
     "output_type": "execute_result"
    }
   ],
   "source": [
    "clf = ExtraTreesRegressor(n_estimators=10, max_depth=None,min_samples_split=2, random_state=0)\n",
    "scores = cross_val_score(clf, X, y, cv=5)\n",
    "scores.mean() "
   ]
  },
  {
   "cell_type": "code",
   "execution_count": 9,
   "metadata": {
    "executionInfo": {
     "elapsed": 555,
     "status": "ok",
     "timestamp": 1655223942440,
     "user": {
      "displayName": "20ad030_Prakash Raja",
      "userId": "02035033576982408941"
     },
     "user_tz": -330
    },
    "id": "TCDn7mYfn4eH"
   },
   "outputs": [],
   "source": [
    "model_1 = RandomForestRegressor()\n",
    "model_2 = DecisionTreeRegressor()\n",
    "model_3 = ExtraTreesRegressor()"
   ]
  },
  {
   "cell_type": "code",
   "execution_count": 10,
   "metadata": {
    "executionInfo": {
     "elapsed": 331,
     "status": "ok",
     "timestamp": 1655223944900,
     "user": {
      "displayName": "20ad030_Prakash Raja",
      "userId": "02035033576982408941"
     },
     "user_tz": -330
    },
    "id": "a8d0U3wroqEz"
   },
   "outputs": [],
   "source": [
    "X_train,X_test,y_train,y_test=train_test_split(X,y,test_size=0.2,random_state=42)"
   ]
  },
  {
   "cell_type": "code",
   "execution_count": 11,
   "metadata": {
    "executionInfo": {
     "elapsed": 533,
     "status": "ok",
     "timestamp": 1655223947786,
     "user": {
      "displayName": "20ad030_Prakash Raja",
      "userId": "02035033576982408941"
     },
     "user_tz": -330
    },
    "id": "RKj817QdoxKy"
   },
   "outputs": [],
   "source": [
    "from sklearn.ensemble import VotingRegressor"
   ]
  },
  {
   "cell_type": "code",
   "execution_count": 12,
   "metadata": {
    "executionInfo": {
     "elapsed": 463,
     "status": "ok",
     "timestamp": 1655223950544,
     "user": {
      "displayName": "20ad030_Prakash Raja",
      "userId": "02035033576982408941"
     },
     "user_tz": -330
    },
    "id": "GNkrENHhqvi8"
   },
   "outputs": [],
   "source": [
    "rf= RandomForestRegressor()\n",
    "dt = DecisionTreeRegressor()\n",
    "et= ExtraTreesRegressor()"
   ]
  },
  {
   "cell_type": "code",
   "execution_count": 13,
   "metadata": {
    "executionInfo": {
     "elapsed": 671,
     "status": "ok",
     "timestamp": 1655223953399,
     "user": {
      "displayName": "20ad030_Prakash Raja",
      "userId": "02035033576982408941"
     },
     "user_tz": -330
    },
    "id": "DWhuMN6OpB06"
   },
   "outputs": [],
   "source": [
    "final_model = VotingRegressor(\n",
    "    estimators=[('rf', model_1), ('dt', model_2), ('et', model_3)])\n",
    " "
   ]
  },
  {
   "cell_type": "code",
   "execution_count": 14,
   "metadata": {
    "colab": {
     "base_uri": "https://localhost:8080/"
    },
    "executionInfo": {
     "elapsed": 892,
     "status": "ok",
     "timestamp": 1655223956693,
     "user": {
      "displayName": "20ad030_Prakash Raja",
      "userId": "02035033576982408941"
     },
     "user_tz": -330
    },
    "id": "7xmDKdRQpG-2",
    "outputId": "b6cba4e6-6c36-4f2c-814a-084d688d8f0e"
   },
   "outputs": [
    {
     "data": {
      "text/plain": [
       "VotingRegressor(estimators=[('rf', RandomForestRegressor()),\n",
       "                            ('dt', DecisionTreeRegressor()),\n",
       "                            ('et', ExtraTreesRegressor())])"
      ]
     },
     "execution_count": 14,
     "metadata": {},
     "output_type": "execute_result"
    }
   ],
   "source": [
    "final_model.fit(X_train, y_train)"
   ]
  },
  {
   "cell_type": "code",
   "execution_count": 15,
   "metadata": {
    "executionInfo": {
     "elapsed": 913,
     "status": "ok",
     "timestamp": 1655223959372,
     "user": {
      "displayName": "20ad030_Prakash Raja",
      "userId": "02035033576982408941"
     },
     "user_tz": -330
    },
    "id": "y-f6bxTR_Rci"
   },
   "outputs": [],
   "source": [
    "pred_final = final_model.predict(X_test)"
   ]
  },
  {
   "cell_type": "code",
   "execution_count": 16,
   "metadata": {
    "executionInfo": {
     "elapsed": 346,
     "status": "ok",
     "timestamp": 1655223961536,
     "user": {
      "displayName": "20ad030_Prakash Raja",
      "userId": "02035033576982408941"
     },
     "user_tz": -330
    },
    "id": "B4jBb8qZ_X00"
   },
   "outputs": [],
   "source": [
    "from sklearn.metrics import r2_score\n"
   ]
  },
  {
   "cell_type": "code",
   "execution_count": 17,
   "metadata": {
    "colab": {
     "base_uri": "https://localhost:8080/"
    },
    "executionInfo": {
     "elapsed": 553,
     "status": "ok",
     "timestamp": 1655223964778,
     "user": {
      "displayName": "20ad030_Prakash Raja",
      "userId": "02035033576982408941"
     },
     "user_tz": -330
    },
    "id": "qAFleNju_ed6",
    "outputId": "e6abf6e2-6929-4c58-fb5b-b0e7b217d679"
   },
   "outputs": [
    {
     "name": "stdout",
     "output_type": "stream",
     "text": [
      "0.938812911264932\n"
     ]
    }
   ],
   "source": [
    "print(r2_score(y_test, pred_final))"
   ]
  },
  {
   "cell_type": "code",
   "execution_count": 18,
   "metadata": {},
   "outputs": [],
   "source": [
    "import pickle\n",
    "pickle.dump(final_model,open('model1.pkl','wb'))"
   ]
  },
  {
   "cell_type": "code",
   "execution_count": 19,
   "metadata": {},
   "outputs": [],
   "source": [
    "model1 = pickle.load(open('model1.pkl','rb'))"
   ]
  },
  {
   "cell_type": "code",
   "execution_count": null,
   "metadata": {},
   "outputs": [],
   "source": []
  }
 ],
 "metadata": {
  "colab": {
   "authorship_tag": "ABX9TyMXv1mLEf7JO2nHjq77irZ4",
   "name": "Untitled19.ipynb",
   "provenance": []
  },
  "kernelspec": {
   "display_name": "Python 3.8.8 ('base')",
   "language": "python",
   "name": "python3"
  },
  "language_info": {
   "codemirror_mode": {
    "name": "ipython",
    "version": 3
   },
   "file_extension": ".py",
   "mimetype": "text/x-python",
   "name": "python",
   "nbconvert_exporter": "python",
   "pygments_lexer": "ipython3",
   "version": "3.8.8"
  },
  "vscode": {
   "interpreter": {
    "hash": "3c72694709991c2b7cba483d01630181dc2397ac2ad3174eadb60ffc831de541"
   }
  }
 },
 "nbformat": 4,
 "nbformat_minor": 1
}
